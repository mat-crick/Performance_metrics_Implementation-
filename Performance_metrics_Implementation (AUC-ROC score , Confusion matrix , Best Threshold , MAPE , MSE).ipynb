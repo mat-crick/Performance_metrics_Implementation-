{
  "nbformat": 4,
  "nbformat_minor": 0,
  "metadata": {
    "colab": {
      "name": "Copy of 5_Performance_metrics_Instructions.ipynb",
      "provenance": [],
      "collapsed_sections": [],
      "machine_shape": "hm"
    },
    "language_info": {
      "codemirror_mode": {
        "name": "ipython",
        "version": 3
      },
      "file_extension": ".py",
      "mimetype": "text/x-python",
      "name": "python",
      "nbconvert_exporter": "python",
      "pygments_lexer": "ipython3",
      "version": "3.6.8"
    },
    "kernelspec": {
      "display_name": "Python 3",
      "language": "python",
      "name": "python3"
    }
  },
  "cells": [
    {
      "cell_type": "markdown",
      "metadata": {
        "id": "s0Ej_bXyQvnV",
        "colab_type": "text"
      },
      "source": [
        "# Compute performance metrics for the given Y and Y_score without sklearn"
      ]
    },
    {
      "cell_type": "code",
      "metadata": {
        "id": "4CHb6NE7Qvnc",
        "colab_type": "code",
        "colab": {}
      },
      "source": [
        "import numpy as np\n",
        "import pandas as pd\n",
        "# other than these two you should not import any other packages"
      ],
      "execution_count": 1,
      "outputs": []
    },
    {
      "cell_type": "code",
      "metadata": {
        "id": "2rJ6_WTPT5Wg",
        "colab_type": "code",
        "colab": {
          "base_uri": "https://localhost:8080/",
          "height": 125
        },
        "outputId": "e7d983bb-201e-4f78-f0ac-eb4d03383f52"
      },
      "source": [
        "\n",
        "from google.colab import drive \n",
        "drive.mount('/content/gdrive')"
      ],
      "execution_count": 2,
      "outputs": [
        {
          "output_type": "stream",
          "text": [
            "Go to this URL in a browser: https://accounts.google.com/o/oauth2/auth?client_id=947318989803-6bn6qk8qdgf4n4g3pfee6491hc0brc4i.apps.googleusercontent.com&redirect_uri=urn%3aietf%3awg%3aoauth%3a2.0%3aoob&response_type=code&scope=email%20https%3a%2f%2fwww.googleapis.com%2fauth%2fdocs.test%20https%3a%2f%2fwww.googleapis.com%2fauth%2fdrive%20https%3a%2f%2fwww.googleapis.com%2fauth%2fdrive.photos.readonly%20https%3a%2f%2fwww.googleapis.com%2fauth%2fpeopleapi.readonly\n",
            "\n",
            "Enter your authorization code:\n",
            "··········\n",
            "Mounted at /content/gdrive\n"
          ],
          "name": "stdout"
        }
      ]
    },
    {
      "cell_type": "code",
      "metadata": {
        "id": "-zKWejERUN14",
        "colab_type": "code",
        "colab": {}
      },
      "source": [
        "df_5_a=pd.read_csv('gdrive/My Drive/Colab Notebooks/5_a.csv')\n"
      ],
      "execution_count": 3,
      "outputs": []
    },
    {
      "cell_type": "code",
      "metadata": {
        "id": "yuX9xlyVzOOO",
        "colab_type": "code",
        "colab": {}
      },
      "source": [
        "Y_true=df_5_a['y']"
      ],
      "execution_count": 4,
      "outputs": []
    },
    {
      "cell_type": "code",
      "metadata": {
        "id": "ncdxRp5yP-m5",
        "colab_type": "code",
        "colab": {}
      },
      "source": [
        "Y_score=df_5_a['proba']"
      ],
      "execution_count": 5,
      "outputs": []
    },
    {
      "cell_type": "code",
      "metadata": {
        "id": "NPib0UZWQoKH",
        "colab_type": "code",
        "colab": {}
      },
      "source": [
        "Y_score=list(Y_score)\n"
      ],
      "execution_count": 6,
      "outputs": []
    },
    {
      "cell_type": "code",
      "metadata": {
        "colab_type": "code",
        "id": "oZzhzb_8udt4",
        "colab": {}
      },
      "source": [
        "Y_score=sorted(Y_score,reverse=True)"
      ],
      "execution_count": 7,
      "outputs": []
    },
    {
      "cell_type": "code",
      "metadata": {
        "id": "Z7vU2olty6vM",
        "colab_type": "code",
        "colab": {}
      },
      "source": [
        "def roc_auc_score(Y_true,Y_score):\n",
        "  Y_true=df_5_a['y']\n",
        "  Y_true=list(Y_true)\n",
        "  Y_score=df_5_a['proba']\n",
        "  Y_score=df_5_a['proba']\n",
        "  Y_score=sorted(Y_score,reverse=True)\n",
        "\n",
        "  tpr=[]\n",
        "  fpr=[]\n",
        "  for i in Y_score:\n",
        "    df_5_a['Y_predict']=np.where(df_5_a['proba']<i,0,1)\n",
        "    q=len(df_5_a[(df_5_a['y']==1) & (df_5_a['Y_predict']==1)])/len(df_5_a[df_5_a['y']==1])\n",
        "    r=len(df_5_a[(df_5_a['y']==0) & (df_5_a['Y_predict']==1)])/len(df_5_a[df_5_a['y']==0])\n",
        "    tpr.append(q)\n",
        "    fpr.append(r)\n",
        "    tpr_array=np.array(tpr)\n",
        "    fpr_array=np.array(fpr)\n",
        "  print(np.trapz(tpr_array, fpr_array))\n",
        "\n",
        "\n",
        "   \n",
        "\n",
        "\n",
        "\n",
        "  \n",
        "\n",
        "\n",
        "\n",
        "\n",
        "\n",
        "  \n"
      ],
      "execution_count": 8,
      "outputs": []
    },
    {
      "cell_type": "code",
      "metadata": {
        "id": "3i8001fP28xp",
        "colab_type": "code",
        "colab": {
          "base_uri": "https://localhost:8080/",
          "height": 34
        },
        "outputId": "4a48b4f2-5baa-43ed-d492-ca3f173bbb0d"
      },
      "source": [
        "roc_auc_score(Y_true,Y_score)"
      ],
      "execution_count": 9,
      "outputs": [
        {
          "output_type": "stream",
          "text": [
            "0.48829900000000004\n"
          ],
          "name": "stdout"
        }
      ]
    },
    {
      "cell_type": "code",
      "metadata": {
        "id": "C39NnV-iqDsd",
        "colab_type": "code",
        "colab": {}
      },
      "source": [
        "y_array=df_5_a['y']"
      ],
      "execution_count": 10,
      "outputs": []
    },
    {
      "cell_type": "code",
      "metadata": {
        "id": "Q5wTA_qaspM6",
        "colab_type": "code",
        "colab": {}
      },
      "source": [
        "Y_array=np.array(y_array)"
      ],
      "execution_count": 11,
      "outputs": []
    },
    {
      "cell_type": "code",
      "metadata": {
        "id": "te30WAljspQP",
        "colab_type": "code",
        "colab": {}
      },
      "source": [
        "y_proba_array=df_5_a['proba']\n"
      ],
      "execution_count": 12,
      "outputs": []
    },
    {
      "cell_type": "code",
      "metadata": {
        "id": "gsqevvXjs8o7",
        "colab_type": "code",
        "colab": {}
      },
      "source": [
        "Y_proba_array=np.array(y_proba_array)"
      ],
      "execution_count": 13,
      "outputs": []
    },
    {
      "cell_type": "code",
      "metadata": {
        "id": "337K1nTss8si",
        "colab_type": "code",
        "colab": {
          "base_uri": "https://localhost:8080/",
          "height": 52
        },
        "outputId": "9d195e72-827c-45be-f6c0-376be0cdd78d"
      },
      "source": [
        "Y_proba_array"
      ],
      "execution_count": 14,
      "outputs": [
        {
          "output_type": "execute_result",
          "data": {
            "text/plain": [
              "array([0.63738662, 0.63516504, 0.76658559, ..., 0.77772367, 0.84603622,\n",
              "       0.67950667])"
            ]
          },
          "metadata": {
            "tags": []
          },
          "execution_count": 14
        }
      ]
    },
    {
      "cell_type": "code",
      "metadata": {
        "id": "-n8KWtDdsMwM",
        "colab_type": "code",
        "colab": {
          "base_uri": "https://localhost:8080/",
          "height": 34
        },
        "outputId": "a6e7a8be-8156-4b0d-f698-b069c627b0cb"
      },
      "source": [
        "roc_auc_score(Y_array,Y_proba_array)"
      ],
      "execution_count": 17,
      "outputs": [
        {
          "output_type": "stream",
          "text": [
            "0.48829900000000004\n"
          ],
          "name": "stdout"
        }
      ]
    },
    {
      "cell_type": "code",
      "metadata": {
        "id": "0MZ1t0NHlNW-",
        "colab_type": "code",
        "colab": {
          "base_uri": "https://localhost:8080/",
          "height": 34
        },
        "outputId": "0c6c1d13-5407-42f8-b89d-587774468b0b"
      },
      "source": [
        "np.trapz(tpr_array, fpr_array)"
      ],
      "execution_count": null,
      "outputs": [
        {
          "output_type": "execute_result",
          "data": {
            "text/plain": [
              "0.48829900000000004"
            ]
          },
          "metadata": {
            "tags": []
          },
          "execution_count": 92
        }
      ]
    },
    {
      "cell_type": "code",
      "metadata": {
        "id": "i6G4w32xjsny",
        "colab_type": "code",
        "colab": {}
      },
      "source": [
        "len(df_5_a[(a_data['y']==1) & (df_5_a['Y_predict']==1)])/len(df_5_a[df_5_a['y']==1])\n",
        "FP=len(a_data[(a_data['y']==0) & (a_data['y_pred']==1)])/len(a_data[a_data['y']==0])\n",
        "  #tpr"
      ],
      "execution_count": null,
      "outputs": []
    },
    {
      "cell_type": "code",
      "metadata": {
        "id": "dqF6vr8pph3c",
        "colab_type": "code",
        "colab": {}
      },
      "source": [
        "Y_actual=df_5_a['y']"
      ],
      "execution_count": null,
      "outputs": []
    },
    {
      "cell_type": "code",
      "metadata": {
        "id": "ooEtE_7Qph7A",
        "colab_type": "code",
        "colab": {}
      },
      "source": [
        "Y_actual=list(Y_actual)"
      ],
      "execution_count": null,
      "outputs": []
    },
    {
      "cell_type": "code",
      "metadata": {
        "id": "M7SrO4unUN4b",
        "colab_type": "code",
        "colab": {}
      },
      "source": [
        "def confusion_matrix(a,b):\n",
        "  s=np.zeros((2,2))\n",
        "  for i in range(len(s)):  \n",
        "    if i==0:\n",
        "      for j in range(len(s[0])):\n",
        "        if j==0:\n",
        "          s[i][j]=len(df[(a==0) & (b==0)])  ##True negative\n",
        "        elif j==1:\n",
        "          s[i][j]=len(df[(a==1) & (b==0)])  ##False negative\n",
        "    elif i==1:\n",
        "      for j in range(len(s[0])):\n",
        "        if j==0:\n",
        "          s[i][j]=len(df[(a==0) & (b==1)])  ##False positive\n",
        "        elif j==1:\n",
        "          s[i][j]=len(df[(a==1) & (b==1)])  ##True positive\n",
        "  return s "
      ],
      "execution_count": null,
      "outputs": []
    },
    {
      "cell_type": "code",
      "metadata": {
        "id": "yAzaaoBKozDv",
        "colab_type": "code",
        "colab": {
          "base_uri": "https://localhost:8080/",
          "height": 34
        },
        "outputId": "cdd22d6c-9a37-4e98-93a4-874ae90573a6"
      },
      "source": [
        "df_5_a.columns"
      ],
      "execution_count": null,
      "outputs": [
        {
          "output_type": "execute_result",
          "data": {
            "text/plain": [
              "Index(['y', 'proba', 'Y_predict'], dtype='object')"
            ]
          },
          "metadata": {
            "tags": []
          },
          "execution_count": 107
        }
      ]
    },
    {
      "cell_type": "code",
      "metadata": {
        "id": "Ct4uCPPv77-f",
        "colab_type": "code",
        "colab": {}
      },
      "source": [
        "y=df_5_a['y']"
      ],
      "execution_count": null,
      "outputs": []
    },
    {
      "cell_type": "code",
      "metadata": {
        "id": "6xyAuehy778J",
        "colab_type": "code",
        "colab": {}
      },
      "source": [
        "y=np.array(y)"
      ],
      "execution_count": null,
      "outputs": []
    },
    {
      "cell_type": "code",
      "metadata": {
        "id": "pTb5RQ2W774A",
        "colab_type": "code",
        "colab": {}
      },
      "source": [
        "Y_predict=df_5_a['Y_predict']"
      ],
      "execution_count": null,
      "outputs": []
    },
    {
      "cell_type": "code",
      "metadata": {
        "id": "ORr-a8PU771f",
        "colab_type": "code",
        "colab": {
          "base_uri": "https://localhost:8080/",
          "height": 34
        },
        "outputId": "566971e4-f402-44fd-8fb1-27303b90cbb9"
      },
      "source": [
        "accuracy"
      ],
      "execution_count": null,
      "outputs": [
        {
          "output_type": "execute_result",
          "data": {
            "text/plain": [
              "0.9900990099009901"
            ]
          },
          "metadata": {
            "tags": []
          },
          "execution_count": 117
        }
      ]
    },
    {
      "cell_type": "code",
      "metadata": {
        "id": "KWUAUNUJozYk",
        "colab_type": "code",
        "colab": {}
      },
      "source": [
        "TN=len(df_5_a[(df_5_a['y']==0) & (df_5_a['Y_predict']==0)])\n",
        "FP=len(df_5_a[(df_5_a['y']==0) & (df_5_a['Y_predict']==1)])\n",
        "FN=len(df_5_a[(df_5_a['y']==1) & (df_5_a['Y_predict']==0)])\n",
        "TP=len(df_5_a[(df_5_a['y']==1) & (df_5_a['Y_predict']==1)])\n"
      ],
      "execution_count": null,
      "outputs": []
    },
    {
      "cell_type": "code",
      "metadata": {
        "id": "d8Pt05x3ozdq",
        "colab_type": "code",
        "colab": {}
      },
      "source": [
        "accuracy=(TP+TN)/(TP+FP+FN+TN)"
      ],
      "execution_count": null,
      "outputs": []
    },
    {
      "cell_type": "code",
      "metadata": {
        "id": "mSno3dE-ozBb",
        "colab_type": "code",
        "colab": {
          "base_uri": "https://localhost:8080/",
          "height": 34
        },
        "outputId": "e11bcb18-1747-4304-d2e1-b2d645861f10"
      },
      "source": [
        "accuracy"
      ],
      "execution_count": null,
      "outputs": [
        {
          "output_type": "execute_result",
          "data": {
            "text/plain": [
              "1.0"
            ]
          },
          "metadata": {
            "tags": []
          },
          "execution_count": 110
        }
      ]
    },
    {
      "cell_type": "code",
      "metadata": {
        "id": "sRIuD3fCnp3E",
        "colab_type": "code",
        "colab": {}
      },
      "source": [
        ""
      ],
      "execution_count": null,
      "outputs": []
    },
    {
      "cell_type": "code",
      "metadata": {
        "id": "x5HIJzq1QvoE",
        "colab_type": "code",
        "colab": {}
      },
      "source": [
        "df_5_c=pd.read_csv('gdrive/My Drive/Colab Notebooks/5_c.csv')"
      ],
      "execution_count": null,
      "outputs": []
    },
    {
      "cell_type": "code",
      "metadata": {
        "id": "xsaipgeS87xt",
        "colab_type": "code",
        "colab": {
          "base_uri": "https://localhost:8080/",
          "height": 34
        },
        "outputId": "d6b967b2-aa43-4f8b-e606-bbee17419a7c"
      },
      "source": [
        "df_5_c.columns"
      ],
      "execution_count": null,
      "outputs": [
        {
          "output_type": "execute_result",
          "data": {
            "text/plain": [
              "Index(['y', 'prob'], dtype='object')"
            ]
          },
          "metadata": {
            "tags": []
          },
          "execution_count": 24
        }
      ]
    },
    {
      "cell_type": "code",
      "metadata": {
        "id": "MasvRBwICA3Y",
        "colab_type": "code",
        "colab": {}
      },
      "source": [
        "def best_threshold(Y_true,Y_score):\n",
        "  Y_true=df_5_c['y']\n",
        "  Y_true=list(Y_true)\n",
        "  Y_score=df_5_c['prob']\n",
        "  Y_score=df_5_c['prob']\n",
        "  Y_score=sorted(Y_score,reverse=True)\n",
        "\n",
        "  A=[]\n",
        "  \n",
        "  for i in Y_score:\n",
        "    df_5_c['Y_predict']=np.where(df_5_c['prob']<i,0,1)\n",
        "    FP=len(df_5_c[(df_5_c['y']==0) & (df_5_c['Y_predict']==1)])\n",
        "    FN=len(df_5_c[(df_5_c['y']==1) & (df_5_c['Y_predict']==0)])\n",
        "    Best_threshold=(500*FN)+(100*FP)\n",
        "    A.append(Best_threshold)\n",
        "    dictionary = dict(zip(Y_score,A))\n",
        "    Proba=dictionary.values()\n",
        "    Proba=list(Proba)\n",
        "    min_proba=min(Proba)\n",
        "  for key, value in dictionary.items(): \n",
        "    if min_proba == value:\n",
        "      print(key)  \n",
        "\n",
        "          \n",
        "\n",
        "\n",
        "  \n",
        "\n",
        "         \n",
        "  \n",
        "\n",
        " \n",
        "    \n",
        "    \n",
        "    \n",
        "    \n",
        "\n",
        "   \n",
        "\n",
        "\n",
        "\n",
        "  \n",
        "\n",
        "\n",
        "\n",
        "\n",
        "\n",
        "  \n"
      ],
      "execution_count": null,
      "outputs": []
    },
    {
      "cell_type": "code",
      "metadata": {
        "id": "1IvkSOAsc51X",
        "colab_type": "code",
        "colab": {
          "base_uri": "https://localhost:8080/",
          "height": 34
        },
        "outputId": "24e5bbd2-f248-4504-c457-e69d5d03df0b"
      },
      "source": [
        "best_threshold(Y_true,Y_score)"
      ],
      "execution_count": null,
      "outputs": [
        {
          "output_type": "stream",
          "text": [
            "0.2300390278970873\n"
          ],
          "name": "stdout"
        }
      ]
    },
    {
      "cell_type": "code",
      "metadata": {
        "id": "dqJuMgua51xY",
        "colab_type": "code",
        "colab": {}
      },
      "source": [
        ""
      ],
      "execution_count": null,
      "outputs": []
    },
    {
      "cell_type": "code",
      "metadata": {
        "id": "2ZFPlkrYg3tU",
        "colab_type": "code",
        "colab": {}
      },
      "source": [
        "a=[4,5,6]"
      ],
      "execution_count": null,
      "outputs": []
    },
    {
      "cell_type": "code",
      "metadata": {
        "id": "en94PvVatAe4",
        "colab_type": "code",
        "colab": {}
      },
      "source": [
        "test_keys = [78,899,788] \n",
        "test_values = [1, 4, 5] \n",
        "  "
      ],
      "execution_count": null,
      "outputs": []
    },
    {
      "cell_type": "code",
      "metadata": {
        "id": "Pj8SmNNStAcS",
        "colab_type": "code",
        "colab": {}
      },
      "source": [
        "res = {test_keys[i]: test_values[i] for i in range(len(test_keys))} \n",
        "  "
      ],
      "execution_count": null,
      "outputs": []
    },
    {
      "cell_type": "code",
      "metadata": {
        "id": "JBmGHosvtW0m",
        "colab_type": "code",
        "colab": {
          "base_uri": "https://localhost:8080/",
          "height": 34
        },
        "outputId": "83d4bbd2-110b-4ca8-9402-b08a7ad161ef"
      },
      "source": [
        "res"
      ],
      "execution_count": null,
      "outputs": [
        {
          "output_type": "execute_result",
          "data": {
            "text/plain": [
              "{78: 1, 788: 5, 899: 4}"
            ]
          },
          "metadata": {
            "tags": []
          },
          "execution_count": 153
        }
      ]
    },
    {
      "cell_type": "code",
      "metadata": {
        "id": "pm5_f9_gkiFQ",
        "colab_type": "code",
        "colab": {
          "base_uri": "https://localhost:8080/",
          "height": 34
        },
        "outputId": "20dbb4e7-80fb-47b2-fc08-8436e35cb63a"
      },
      "source": [
        "len(Y_score)"
      ],
      "execution_count": null,
      "outputs": [
        {
          "output_type": "execute_result",
          "data": {
            "text/plain": [
              "10100"
            ]
          },
          "metadata": {
            "tags": []
          },
          "execution_count": 145
        }
      ]
    },
    {
      "cell_type": "code",
      "metadata": {
        "id": "OABM6vUBg7eZ",
        "colab_type": "code",
        "colab": {
          "base_uri": "https://localhost:8080/",
          "height": 34
        },
        "outputId": "6019bd2d-3322-4998-ff69-39410801831a"
      },
      "source": [
        "max(a)"
      ],
      "execution_count": null,
      "outputs": [
        {
          "output_type": "execute_result",
          "data": {
            "text/plain": [
              "6"
            ]
          },
          "metadata": {
            "tags": []
          },
          "execution_count": 131
        }
      ]
    },
    {
      "cell_type": "code",
      "metadata": {
        "id": "SZCkkqDt-_9O",
        "colab_type": "code",
        "colab": {}
      },
      "source": [
        "df_5_d=pd.read_csv('gdrive/My Drive/Colab Notebooks/5_d.csv')"
      ],
      "execution_count": null,
      "outputs": []
    },
    {
      "cell_type": "code",
      "metadata": {
        "id": "69VeS-pmd9Ez",
        "colab_type": "code",
        "colab": {}
      },
      "source": [
        "import pandas as pd"
      ],
      "execution_count": null,
      "outputs": []
    },
    {
      "cell_type": "code",
      "metadata": {
        "id": "XH71rXfXUvYq",
        "colab_type": "code",
        "colab": {
          "base_uri": "https://localhost:8080/",
          "height": 34
        },
        "outputId": "bfff8bd5-5a5b-4129-fb79-c4c6cd770ad7"
      },
      "source": [
        "len(df_5_d)"
      ],
      "execution_count": null,
      "outputs": [
        {
          "output_type": "execute_result",
          "data": {
            "text/plain": [
              "157200"
            ]
          },
          "metadata": {
            "tags": []
          },
          "execution_count": 15
        }
      ]
    },
    {
      "cell_type": "code",
      "metadata": {
        "id": "5ilW6S8iH8JL",
        "colab_type": "code",
        "colab": {}
      },
      "source": [
        "Y_true=df_5_d['y']"
      ],
      "execution_count": null,
      "outputs": []
    },
    {
      "cell_type": "code",
      "metadata": {
        "id": "7RSV8xusLJTa",
        "colab_type": "code",
        "colab": {
          "base_uri": "https://localhost:8080/",
          "height": 34
        },
        "outputId": "897f0f52-8f21-4a18-b218-ce8012c0264c"
      },
      "source": [
        "df_5_d.columns"
      ],
      "execution_count": null,
      "outputs": [
        {
          "output_type": "execute_result",
          "data": {
            "text/plain": [
              "Index(['y', 'pred'], dtype='object')"
            ]
          },
          "metadata": {
            "tags": []
          },
          "execution_count": 248
        }
      ]
    },
    {
      "cell_type": "code",
      "metadata": {
        "id": "u5JuC20YLJQi",
        "colab_type": "code",
        "colab": {}
      },
      "source": [
        "Y_predict=df_5_d['pred']"
      ],
      "execution_count": null,
      "outputs": []
    },
    {
      "cell_type": "code",
      "metadata": {
        "id": "Q6Gyu83ZIvrk",
        "colab_type": "code",
        "colab": {}
      },
      "source": [
        "\n",
        "Y_difference=(Y_true-Y_predict)\n",
        "Y_difference_squared=Y_difference**2\n",
        "Y_difference_squared=list(Y_difference_squared)\n",
        "\n"
      ],
      "execution_count": null,
      "outputs": []
    },
    {
      "cell_type": "code",
      "metadata": {
        "id": "398gBKbeUKjd",
        "colab_type": "code",
        "colab": {}
      },
      "source": [
        "Y_difference_sum=sum(Y_difference_squared)"
      ],
      "execution_count": null,
      "outputs": []
    },
    {
      "cell_type": "code",
      "metadata": {
        "id": "PRKQ276VUKha",
        "colab_type": "code",
        "colab": {
          "base_uri": "https://localhost:8080/",
          "height": 34
        },
        "outputId": "71ea1898-668a-4121-9c6c-4a92616ab1c2"
      },
      "source": [
        "Y_difference_sum/len(df_5_d)"
      ],
      "execution_count": null,
      "outputs": [
        {
          "output_type": "execute_result",
          "data": {
            "text/plain": [
              "177.16569974554707"
            ]
          },
          "metadata": {
            "tags": []
          },
          "execution_count": 278
        }
      ]
    },
    {
      "cell_type": "code",
      "metadata": {
        "id": "jZT7-OTnUKd_",
        "colab_type": "code",
        "colab": {}
      },
      "source": [
        "def mse(Y_true,Y_predict):\n",
        "  Y_true=df_5_d['y']\n",
        "  Y_predict=df_5_d['pred']\n",
        "  \n",
        "  Y_difference=(Y_true-Y_predict)\n",
        "  Y_difference_squared=Y_difference**2\n",
        "  Y_difference_squared=list(Y_difference_squared)\n",
        "  Y_difference_sum=sum(Y_difference_squared)\n",
        "  mse=Y_difference_sum/len(df_5_d)\n",
        "  print(mse)\n",
        "\n",
        "\n",
        "\n",
        "\n"
      ],
      "execution_count": null,
      "outputs": []
    },
    {
      "cell_type": "code",
      "metadata": {
        "id": "i702wenbdfIE",
        "colab_type": "code",
        "colab": {
          "base_uri": "https://localhost:8080/",
          "height": 34
        },
        "outputId": "597850e5-81c7-4979-a3cb-e1d03a3fda99"
      },
      "source": [
        "len(df_5_d)"
      ],
      "execution_count": null,
      "outputs": [
        {
          "output_type": "execute_result",
          "data": {
            "text/plain": [
              "151483"
            ]
          },
          "metadata": {
            "tags": []
          },
          "execution_count": 17
        }
      ]
    },
    {
      "cell_type": "code",
      "metadata": {
        "id": "e_KAPacLieTr",
        "colab_type": "code",
        "colab": {}
      },
      "source": [
        "df_5_d=df_5_d[df_5_d['y']!=0]"
      ],
      "execution_count": null,
      "outputs": []
    },
    {
      "cell_type": "code",
      "metadata": {
        "id": "lS6g-vEVgzLv",
        "colab_type": "code",
        "colab": {}
      },
      "source": [
        "Y_predict=df_5_d['pred']"
      ],
      "execution_count": null,
      "outputs": []
    },
    {
      "cell_type": "code",
      "metadata": {
        "id": "1n78oLrNi83y",
        "colab_type": "code",
        "colab": {}
      },
      "source": [
        "Y_true=df_5_d['y']"
      ],
      "execution_count": null,
      "outputs": []
    },
    {
      "cell_type": "code",
      "metadata": {
        "id": "SjbINfFgXsMa",
        "colab_type": "code",
        "colab": {}
      },
      "source": [
        "def mape(Y_true,Y_predict):\n",
        "  Y_true=df_5_d['y']\n",
        "  Y_predict=df_5_d['pred']\n",
        "  \n",
        "  Y_difference=(abs((Y_true-Y_predict)/Y_true)).mean()\n",
        "  \n",
        "  \n",
        "  print(Y_difference)"
      ],
      "execution_count": null,
      "outputs": []
    },
    {
      "cell_type": "code",
      "metadata": {
        "id": "QxSyVgsRhxrb",
        "colab_type": "code",
        "colab": {}
      },
      "source": [
        ""
      ],
      "execution_count": null,
      "outputs": []
    },
    {
      "cell_type": "code",
      "metadata": {
        "id": "BWJJbGYOZvQY",
        "colab_type": "code",
        "colab": {
          "base_uri": "https://localhost:8080/",
          "height": 34
        },
        "outputId": "0df4517d-ed14-425a-ded6-ee6cb9fd87f6"
      },
      "source": [
        "mape(Y_true,Y_predict)"
      ],
      "execution_count": null,
      "outputs": [
        {
          "output_type": "stream",
          "text": [
            "0.2913098788651058\n"
          ],
          "name": "stdout"
        }
      ]
    },
    {
      "cell_type": "code",
      "metadata": {
        "id": "C-oVaXDIZxts",
        "colab_type": "code",
        "colab": {}
      },
      "source": [
        "Y_predict=df_5_d['pred']"
      ],
      "execution_count": null,
      "outputs": []
    },
    {
      "cell_type": "code",
      "metadata": {
        "id": "UkkcXeSWyWG3",
        "colab_type": "code",
        "colab": {}
      },
      "source": [
        "Y_true=df_5_d['y']"
      ],
      "execution_count": null,
      "outputs": []
    },
    {
      "cell_type": "code",
      "metadata": {
        "id": "EuOnygmlyWaC",
        "colab_type": "code",
        "colab": {}
      },
      "source": [
        "A=((Y_true-Y_predict)**2).sum()"
      ],
      "execution_count": null,
      "outputs": []
    },
    {
      "cell_type": "code",
      "metadata": {
        "id": "4V8A9T6Tywc9",
        "colab_type": "code",
        "colab": {}
      },
      "source": [
        "Y_mean=df_5_d['y'].mean()"
      ],
      "execution_count": null,
      "outputs": []
    },
    {
      "cell_type": "code",
      "metadata": {
        "id": "VtIHmpGDzpAs",
        "colab_type": "code",
        "colab": {}
      },
      "source": [
        "B=((Y_true-Y_mean)**2).sum()"
      ],
      "execution_count": null,
      "outputs": []
    },
    {
      "cell_type": "code",
      "metadata": {
        "id": "Jh2gyhTVz7Vc",
        "colab_type": "code",
        "colab": {}
      },
      "source": [
        "C=1-(A/B)"
      ],
      "execution_count": null,
      "outputs": []
    },
    {
      "cell_type": "code",
      "metadata": {
        "id": "mTMhTQb2z_ks",
        "colab_type": "code",
        "colab": {
          "base_uri": "https://localhost:8080/",
          "height": 34
        },
        "outputId": "4eb4e572-bfa9-42b7-a6fd-6acaf9b37bf2"
      },
      "source": [
        "C"
      ],
      "execution_count": null,
      "outputs": [
        {
          "output_type": "execute_result",
          "data": {
            "text/plain": [
              "0.9553312881193532"
            ]
          },
          "metadata": {
            "tags": []
          },
          "execution_count": 42
        }
      ]
    },
    {
      "cell_type": "code",
      "metadata": {
        "id": "O3Am4u1K0AoT",
        "colab_type": "code",
        "colab": {}
      },
      "source": [
        "def R_squared(Y_predict,Y_true):\n",
        "  Y_mean=df_5_d['y'].mean()\n",
        "  Y_predict=df_5_d['pred']\n",
        "  Y_true=df_5_d['y']\n",
        "  A=((Y_true-Y_predict)**2).sum()\n",
        "  B=((Y_true-Y_mean)**2).sum()\n",
        "  C=1-(A/B)\n",
        "  print(C)\n",
        "\n",
        "\n",
        "\n",
        "\n"
      ],
      "execution_count": null,
      "outputs": []
    },
    {
      "cell_type": "code",
      "metadata": {
        "id": "tn3MB2C-3XSx",
        "colab_type": "code",
        "colab": {
          "base_uri": "https://localhost:8080/",
          "height": 34
        },
        "outputId": "158cff39-5f52-4bab-fd06-0571202a26cc"
      },
      "source": [
        "R_squared(Y_predict,Y_true)"
      ],
      "execution_count": null,
      "outputs": [
        {
          "output_type": "stream",
          "text": [
            "0.9553312881193532\n"
          ],
          "name": "stdout"
        }
      ]
    },
    {
      "cell_type": "code",
      "metadata": {
        "id": "rXTwcaVR3Ztc",
        "colab_type": "code",
        "colab": {}
      },
      "source": [
        ""
      ],
      "execution_count": null,
      "outputs": []
    }
  ]
}